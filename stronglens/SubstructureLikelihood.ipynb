{
 "cells": [
  {
   "cell_type": "markdown",
   "metadata": {},
   "source": [
    "# Dark Matter Substructure from Strong Lenses\n",
    "\n",
    "*Contact: Alex Drlica-Wagner*\n",
    "\n",
    "This notebook is an attempt to replicate the likelihood analysis framework of [Vegetti & Koopmans, 2009 (VK09)](https://arxiv.org/abs/0903.4752) to constrain the dark matter substructure fraction, $f$, and the index of the dark matter power spectrum, $\\alpha$, from a statistical sample of strong lens systems. The analysis of VK09 focuses on building a joint likelihood function for analysing a sample of strong lense systems sim\n",
    "\n",
    "1. The substructure mass fraction and the index of the substructure mass function are the same in all lens systems. This assumption is manifest by tying the $\\alpha$ and $f$ parameters across all lenses.\n",
    "2. The characteristics of the dark matter substructure are independent of radial position in the lens. In reality, we are only measuring the substructure characteristics close to the Einstein radius, $R_{E}$.\n",
    "3. Sustructures are independent random variates within each lens (i.e., no 2-halo term) and between lenses.\n",
    "\n",
    "All equation numbers in this document correspond to the equation numbering in the [published version](https://academic.oup.com/mnras/article-lookup/doi/10.1111/j.1365-2966.2009.15559.x) of VK09."
   ]
  },
  {
   "cell_type": "code",
   "execution_count": 1,
   "metadata": {
    "collapsed": true
   },
   "outputs": [],
   "source": [
    "# General imports\n",
    "%matplotlib inline\n",
    "\n",
    "import logging\n",
    "import numpy as np\n",
    "import pylab as plt\n",
    "from scipy import stats\n",
    "from scipy import integrate\n",
    "from scipy.integrate import simps,trapz,quad,nquad\n",
    "from scipy.interpolate import interp1d\n",
    "from scipy.misc import factorial"
   ]
  },
  {
   "cell_type": "markdown",
   "metadata": {},
   "source": [
    "## Constants and Defaults\n",
    "\n",
    "We start by defining several constants and defaults. Specifically, we are interested in the following parameters:\n",
    "\n",
    "* $(M_{\\rm min},\\ M_{\\rm max}$ = `(MMIN,MMAX)`: The minimum and maximum masses of the underlying true substructure mass function.\n",
    "* $(M_{\\rm low},\\ M_{\\rm high})$ = `(MLOW,MHIGH)`: The low and high mass ends of the observable section of the substructure mass function.\n",
    "* $\\vec{p}$ = `P` = `(MMIN,MMAX,MLOW,MHIGH)`: The set of nuisance parameters describing the mass limits.\n",
    "* $\\alpha$ = `ALPHA`: The slope of the substructure mass function (`default: 1.9`)\n",
    "* $f$ = `FRAC`: The substructure mass fraction (`default: 0.02`) \n",
    "* $M(<R)$ = `MHALO`: The host halo mass (`default: 1e11`)\n",
    "* $\\sigma_{m}$ = `SIGMA`: Mass measurement error (or intrinsic spread)"
   ]
  },
  {
   "cell_type": "code",
   "execution_count": 2,
   "metadata": {
    "collapsed": true
   },
   "outputs": [],
   "source": [
    "# Constants\n",
    "MMIN,MMAX  = 4e6,4e9\n",
    "MLOW,MHIGH = 0.3e8,4e9\n",
    "P = (MMIN,MMAX,MLOW,MHIGH)\n",
    "NSTEPS=(1000,1000)\n",
    "\n",
    "# Defaults                                                                          \n",
    "ALPHA=1.9\n",
    "FRAC=0.02\n",
    "MHALO=1e11\n",
    "SIGMA = 0"
   ]
  },
  {
   "cell_type": "code",
   "execution_count": 3,
   "metadata": {
    "collapsed": true
   },
   "outputs": [],
   "source": [
    "# Utility functions\n",
    "\n",
    "def create_mass_array(log=True,nsteps=(1500,1300)):\n",
    "    \"\"\" Create an array spanning the true and observable mass ranges.                \n",
    "                                                                                     \n",
    "    Parameters:                                                                      \n",
    "    -----------                                                                      \n",
    "    p      : Tuple of the range of masses (MMIN,MMAX,MHIGH,MLOW)                     \n",
    "    nsteps : Number of steps to span the ranges (NTRUE, NCONV)                       \n",
    "    log    : Sample in log or linear space                                           \n",
    "                                                                                     \n",
    "    Returns:                                                                         \n",
    "    --------                                                                         \n",
    "    m,mp,mm,mmp : The                                                                \n",
    "    \"\"\"\n",
    "    nsteps = map(int,nsteps)\n",
    "    if log:\n",
    "        m = np.logspace(np.log10(MMIN),np.log10(MMAX),nsteps[0])\n",
    "        mp = np.logspace(np.log10(MLOW),np.log10(MHIGH),nsteps[1])\n",
    "    else:\n",
    "        m = np.linspace(MMIN,MMAX,nsteps[0])\n",
    "        mp = np.linspace(MLOW,MHIGH,nsteps[1])\n",
    "    mm,mmp = np.meshgrid(m,mp)\n",
    "    return m,mp,mm,mmp\n",
    "\n",
    "def mhalo(radius=None):\n",
    "    \"\"\" Return the halo mass as a function of maximum radius.                        \n",
    "    WARNING: Returns constant MHALO independent of R!                                \n",
    "                                                                                     \n",
    "    Parameters:                                                                      \n",
    "    -----------                                                                      \n",
    "    radius : Maximum radius for inclused halo mass                                   \n",
    "                                                                                     \n",
    "    Returns:                                                                         \n",
    "    --------                                                                         \n",
    "    mhalo : Enclosed halo mass                                                       \n",
    "    \"\"\"\n",
    "    return MHALO"
   ]
  },
  {
   "cell_type": "markdown",
   "metadata": {},
   "source": [
    "## Subhalo Mass Function\n",
    "\n",
    "The true subhalo mass function is assumed to be a normalized power-law with index $\\alpha$\n",
    "\n",
    "\\begin{equation}\n",
    "\\left.\\frac{dP}{dm}\\right|_{true}=\\left\\{\n",
    " \\begin{array}{cc}\n",
    " \\frac{\\left(1-\\alpha\\right)~m^{-\\alpha}}{ \\left(M_{\\rm{max}}^{1-\\alpha}~-~M_{\\rm{min}}^{1 -\\alpha}\\right)}& \\alpha \\neq 1\\\\\n",
    "\\\\\n",
    " \\frac{m^{-\\alpha}}{ \\log{\\left(M_{\\rm{max}}/M_{\\rm{min}}\\right)}}& \\alpha = 1 \n",
    "\\end{array}\n",
    "\t\\right.\n",
    "\\tag{6}\n",
    "\\end{equation}\n",
    "\n",
    "VK09 convolve this true mass function with a Gaussian to account for \"the presence of noise on the data and the statistical uncertainty with which masses are measured\". They define their convolved mass function as\n",
    "\n",
    "\\begin{equation}\n",
    "\\left. \\frac{dP}{dm} \\right|_{conv} = \\int_{M_{\\rm{min}}}^{M_{\\rm{max}}} {\\left.\\frac{dP}{dm}\\right |_{true}} \\frac{e^{-\\left(m-m^\\prime\\right)^2/2{\\sigma^2_m}}}{\\sqrt{2\\pi}\\sigma_m} ~dm\n",
    "\\end{equation}\n",
    "\n",
    "NOTE: I'm not sure I completely believe this motivation for the convolved mass function. What they have done is to incorporate an *intrinsic* scatter in the true mass function. This has the effect that occasionally masses below the detection threshold will scatter *up* to detectability. I don't think that this is an accurate representation of the effect of measurement error, but I'd need to think about it a bit more.\n",
    "\n",
    "NOTE: When the mass uncertainty is zero, $\\sigma_m = 0$, then the Gaussian convolution is replaced with at $\\delta$-function and the convloved mass function reverts to the true mass function."
   ]
  },
  {
   "cell_type": "code",
   "execution_count": 4,
   "metadata": {
    "collapsed": true
   },
   "outputs": [],
   "source": [
    "def dP_dm_true(m,alpha):\n",
    "    \"\"\" True mass function (Eqn. 6) normalized over full mass range [MMIN,MMAX].\n",
    "    \n",
    "    Parameters:\n",
    "    ---------- \n",
    "    m     : True mass of subhalo\n",
    "    alpha : Power-law index of subhalo mass function\n",
    "\n",
    "    Returns:\n",
    "    --------                                               \n",
    "    dP_dm_true : Normalized pdf                                                      \n",
    "    \"\"\"\n",
    "    m = np.atleast_1d(m)\n",
    "    ret = ((1-alpha)*m**(-alpha))/(MMAX**(1-alpha)-MMIN**(1-alpha))\n",
    "    ret = np.where(alpha==1,(m**-alpha)/np.log(MMAX/MMIN),ret)\n",
    "    return np.where(np.isfinite(ret),ret,np.nan)\n",
    "\n",
    "def dP_dm_conv(m,mp,alpha,sigma=SIGMA):\n",
    "    \"\"\" The convolved mass function.\n",
    "                                                                                     \n",
    "    Parameters:                                                                      \n",
    "    -----------                                                                      \n",
    "    m   : The range of true masses                                                   \n",
    "    mp  : The range of observed masses                                               \n",
    "                                                                                     \n",
    "    Returns:                                                                         \n",
    "    --------                                                                         \n",
    "    dP_dm_conv : The integrated convolved mass function                              \n",
    "    \"\"\"\n",
    "    if sigma == 0:\n",
    "        # Convolution replaced with delta function when sigma == 0\n",
    "        return dP_dm_true(np.atleast_2d(mp.T)[0],alpha)\n",
    "    else:\n",
    "        return simps(dP_dm_true(m,alpha)*stats.norm.pdf(m,loc=mp,scale=sigma),m)"
   ]
  },
  {
   "cell_type": "markdown",
   "metadata": {},
   "source": [
    "## Substructure Likelihood Function\n",
    "\n",
    "VK09 define the likelihood of detecting $n_s$ substructures, each with mass $m_i$, in a single galaxy as the product of the Poisson probability of detecting $n_s$ substtimes the normalized probability density of observing a substructure with mass $m_i$ within a radius $R$,\n",
    "    \n",
    "\\begin{equation}\n",
    "{\\cal L}\\left( n_s,\\vec{m}~|~\\alpha,f,\\vec{p}\\right) = \\frac{e^{-\\mu(\\alpha,f,< R)}~{\\mu(\\alpha,f,< R)}^{n_s}}{n_s!}  \\times \\prod_{i=1}^{n_s}P\\left(m_i,R~|~\\vec{p},\\alpha\\right)\\,.\n",
    "\\tag{1}\n",
    "\\end{equation}\n",
    "\n",
    "Assuming that the probability of observing a substructure is independent of $R$, the normalized probability density of observing the masses $m_i$ can be expressed as\n",
    "\n",
    "\\begin{equation}\n",
    "P\\left(m_i~|~\\vec{p},\\alpha\\right) = \\frac{\\int_{M_{\\rm{min}}}^{M_{\\rm{max}}}{\\left. \\frac{dP}{dm}\\right|_{true}\\frac{e^{-\\left(m-m_i\\right)^2/2{\\sigma_m}^2}}{\\sqrt{2\\pi}\\sigma_m} dm}}{\\int_{M_{\\rm{low}}} ^{M_{\\rm{high}}} { \\int_{M_{\\rm{min}}} ^{M_{\\rm{max}}} {\\left.\\frac{dP}{dm}\\right|_{true}}\\frac{e^{-\\left(m-m^\\prime\\right)^2/2{\\sigma_m}^2}}{\\sqrt{2\\pi}\\sigma_m} ~dm~dm^\\prime}}\\,.\n",
    "\\tag{2}\n",
    "\\end{equation}\n",
    "\n",
    "\n",
    "In turn, the probability of measuring $n_s$ substructures in each of $n_l$ lenses, is the product of the likelihoods for each individual lens,\n",
    "\n",
    "\\begin{equation}\n",
    "{\\cal L}\\left( \\{n_s,\\vec{m}\\}~|~\\alpha,f,\\vec{p} \\right) = \\prod_{k=1}^{n_l}{\\cal L}\\left( n_{s,k},\\vec{m}_k~|~\\alpha,f,\\vec{p} \\right)\\,.\n",
    "\\tag{8}\n",
    "\\end{equation}  \n",
    "\n",
    "It is easier (and more numerically accurate) to work with the logarithm of the likelihood:\n",
    "\n",
    "\\begin{align}\n",
    "\\log{\\cal L}\\left( \\{n_s,\\vec{m}\\}~|~\\alpha,f,\\vec{p} \\right) &= \\sum_{k=1}^{n_l}{\\log \\cal L}\\left( n_{s,k},\\vec{m}_k~|~\\alpha,f,\\vec{p} \\right)\\\\\n",
    "&= \\sum_{k=1}^{n_l} \\log \\left( \\frac{e^{-\\mu(\\alpha,f,< R)}~{\\mu(\\alpha,f,< R)}^{n_s}}{n_s!} \\right)  + \\sum_{k=1}^{n_l} \\sum_{i=1}^{n_s} \\log P\\left(m_i,R~|~\\vec{p},\\alpha\\right)\n",
    "\\end{align}  \n",
    "\n",
    "The likelihood is clearly separable into two terms:\n",
    "1. The first term represents the probability of having the measured abundance of subhalos. We call this term the \"abudance probability\" or $LogProb(N)$.\n",
    "2. The second term represnts the probability of measuring a given mass for each subhalo. We call this term the \"mass probability\" or $LogProb(m)$.\n",
    "\n",
    "We describe the two terms in more detail below."
   ]
  },
  {
   "cell_type": "markdown",
   "metadata": {},
   "source": [
    "## Abundance Probability \n",
    "\n",
    "The first term represents the Poisson probability of detecting $n_s$ substructures when $\\mu(\\alpha,f,< R)$ are expected.\n",
    "\n",
    "\\begin{equation}\n",
    "LogProb(N) = \\sum_{k=1}^{n_l} \\log \\left( \\frac{e^{-\\mu(\\alpha,f,< R)}~{\\mu(\\alpha,f,< R)}^{n_s}}{n_s!} \\right) \n",
    "\\end{equation}\n",
    "\n",
    "The expected number of substructures is calculated from the mass function and the detectable range. First we define the expectation over the full mass range\n",
    "\n",
    "\\begin{align}\n",
    "\t\\mu_0(\\alpha,f,<R,\\vec{p}) &= \\frac{ f(<R)~ M_{\\rm{DM}}(<R)} {\\int_{M_{\\rm{min}}}^{M_{\\rm{max}}}{m~\\left.\\frac{dP}{dm}\\right |_{true}~dm}} \\\\\n",
    "    &= f(<R)~M_{\\rm{DM}}(<R)\\left\\{\n",
    "\t\\begin{array}{ccc}\n",
    "\t\\frac{ \\left(2 -\\alpha\\right)~ \\left(M_{\\rm{max}}^{1-\\alpha}~-~M_{\\rm{min}}^{1 -\\alpha}\\right)} {\\left(1 -\\alpha \\right)~ \\left(M_{\\rm{max}}^{2 -\\alpha}~-~M_{\\rm{min}}^{2 -\\alpha}\\right)} & \\alpha \\neq 2,~ \\alpha \\neq 1\\\\\n",
    "\t\\\\\n",
    "\t-\\frac{\\left(M_{\\rm{max}}^{-1}~-~M_{\\rm{min}}^{-1}\\right)} {\\log\\left(M_{\\rm{max}}~/~M_{\\rm{min}}\\right)} & \\alpha = 2\\\\\n",
    "\t\\\\\n",
    "\t\\frac{\\log{\\left(M_{\\rm{max}} / M_{\\rm{min}}\\right)}} { \\left(M_{\\rm{max}}~-~M_{\\rm{min}}\\right)} & \\alpha =1 &\\\\\n",
    "\t\\end{array}\n",
    "\t\\right.\n",
    "    \\tag{5}\n",
    "\\end{align}\n",
    "\n",
    "Then we calculate the expectation value for the convolved mass function over the detectable range\n",
    "\n",
    "\\begin{align}\n",
    "\\mu(\\alpha,f,<R,\\vec{p}) &= \\mu_0(\\alpha,f,<R,\\vec{p}) \\int_{M_{\\rm{low}}} ^{M_{\\rm{high}}} { \\left. \\frac{dP}{dm}\\right |_{conv}~dm} \\\\\n",
    "&= \\mu_0(\\alpha,f,<R,\\vec{p}) \\int_{M_{\\rm{low}}} ^{M_{\\rm{high}}} { \\int_{M_{\\rm{min}}} ^{M_{\\rm{max}}} {\\left.\\frac{dP}{dm}\\right |_{true}}\\frac{e^{-\\left(m-m^\\prime\\right)^2/2{\\sigma^2_m}}}{\\sqrt{2\\pi}\\sigma_m} ~dm~dm^\\prime}\\,.\n",
    "\\tag{7}\n",
    "\\end{align}\n",
    "\n",
    "We can then put everything together to define abundance probability function, $LogProb(N)$."
   ]
  },
  {
   "cell_type": "code",
   "execution_count": 5,
   "metadata": {
    "collapsed": true
   },
   "outputs": [],
   "source": [
    "def mu0(alpha, frac, radius=None):\n",
    "    \"\"\" Expected number of substructures from the true mass function (Eq. 5).        \n",
    "                                                                                     \n",
    "    Parameters:                                                                      \n",
    "    -----------                                                                      \n",
    "    alpha : Slope of the substructure mass function                                  \n",
    "    frac  : Substructure mass fraction                                               \n",
    "    radius: Enclosed radius                                                          \n",
    "                                                                                     \n",
    "    Returns:                                                                         \n",
    "    --------                                                                         \n",
    "    mu0   : Predicted number of substructures for the true mass function             \n",
    "    \"\"\"\n",
    "    alpha = np.atleast_1d(alpha)\n",
    "    integral = ( (2-alpha)*(MMAX**(1-alpha) - MMIN**(1-alpha))) / \\\n",
    "               ( (1-alpha)*(MMAX**(2-alpha) - MMIN**(2-alpha)))\n",
    "    integral = np.where(alpha==2,-(MMAX**-1 - MMIN**-1)/np.log(MMAX/MMIN),integral)\n",
    "    integral = np.where(alpha==1,np.log(MMAX/MMIN)/(MMAX - MMIN),integral)\n",
    "    return frac * mhalo(radius) * integral\n",
    "\n",
    "def mu(alpha, frac, radius=None, sigma=SIGMA):\n",
    "    \"\"\" Expected number of substructures from the observable mass function (Eq. 4)   \n",
    "                                                                                     \n",
    "    Parameters:                                                                      \n",
    "    -----------                                                                      \n",
    "    alpha : Slope of the substructure mass function                                  \n",
    "    frac  : Substructure mass fraction                                               \n",
    "    radius: Enclosed radius                                                          \n",
    "    sigma : Substructure mass error                                                  \n",
    "                                                                                     \n",
    "    Returns:                                                                         \n",
    "    --------                                                                         \n",
    "    mu   : Predicted number of substructures for the observable mass function        \n",
    "    \"\"\"\n",
    "    m,mp,mm,mmp = create_mass_array()\n",
    "    _mu0 = mu0(alpha, frac, radius)\n",
    "    _integral = simps(dP_dm_conv(mm,mmp,alpha,sigma=sigma),mp)\n",
    "    return _mu0 * _integral\n",
    "\n",
    "def LogProbNumber(data, alpha, frac, R=1, sigma=SIGMA):\n",
    "    \"\"\" Logarithm of the joint probability for the number of substructures.          \n",
    "                                                                                     \n",
    "    Parameters:                                                                      \n",
    "    -----------                                                                      \n",
    "    data : Input data                                                                \n",
    "    alpha: Index of the mass function                                                \n",
    "    frac : Substructure mass fraction                                                \n",
    "                                                                                     \n",
    "    Returns:                                                                         \n",
    "    --------                                                                         \n",
    "    prob : Logarithm of the joint Poission probability                               \n",
    "    \"\"\"\n",
    "    logging.debug(' LogProbNumber: %s'%len(data))\n",
    "    nsrc = data['nsrc']\n",
    "    _mu = mu(alpha,frac,R,sigma=sigma)\n",
    "    return np.sum(stats.poisson.logpmf(nsrc[:,np.newaxis],_mu),axis=0)"
   ]
  },
  {
   "cell_type": "markdown",
   "metadata": {},
   "source": [
    "## Mass Probability\n",
    "\n",
    "The second term is a Gaussian probability for measuring a subhalo with mass $m_i$\n",
    "\n",
    "\\begin{align}\n",
    "Prob(m) = \\sum_{k=1}^{n_l} \\sum_{i=1}^{n_s} \\log P\\left(m_{k,i} ~|~\\vec{p},\\alpha \\right)\n",
    "\\end{align}\n",
    "\n",
    "The denominator in Eq 2 does not depend on any specific substructure, $m_i$, and can therefore be extracted from the sum. Additionally, since $\\alpha$ and $f$ are assumed to be the same in all lenses, the double sum can be simplified to a single sum over all substructures. The mass probability function therefore becomes\n",
    "\n",
    "\\begin{align}\n",
    "Prob(m) &= \\sum_{j=1}^{n_l \\times n_s} \\log \\int_{M_{\\rm{min}}}^{M_{\\rm{max}}}{\\left. \\frac{dP}{dm}\\right|_{true}\\frac{e^{-\\left(m-m_j\\right)^2/2{\\sigma_m}^2}}{\\sqrt{2\\pi}\\sigma_m} dm} \n",
    "- n_l n_s \\log {\\int_{M_{\\rm{low}}} ^{M_{\\rm{high}}} { \\int_{M_{\\rm{min}}} ^{M_{\\rm{max}}} {\\left.\\frac{dP}{dm}\\right|_{true}}\\frac{e^{-\\left(m-m^\\prime\\right)^2/2{\\sigma_m}^2}}{\\sqrt{2\\pi}\\sigma_m} ~dm~dm^\\prime}}\n",
    "\\end{align}\n",
    "\n",
    "Since we've already defined the integrand as the convolved mass function, the above equation can be simplified to\n",
    "\n",
    "\\begin{align}\n",
    "LogProb(m) &= \\sum_{k,i=1}^{n_l,n_s} \\log {\\left. \\frac{dP}{dm_{k,i}}\\right|_{conv}} \n",
    "- n_l n_s \\log {\\int_{M_{\\rm{low}}} ^{M_{\\rm{high}}} {{\\left. \\frac{dP}{dm}\\right|_{conv}} dm}}\n",
    "\\end{align}"
   ]
  },
  {
   "cell_type": "code",
   "execution_count": 6,
   "metadata": {
    "collapsed": true
   },
   "outputs": [],
   "source": [
    "def LogProbMass(data, alpha, sigma=SIGMA):\n",
    "    \"\"\" Logarithm of the joint probability for mass of substructures.                \n",
    "                                                                                     \n",
    "    Parameters:                                                                      \n",
    "    -----------                                                                      \n",
    "    data : Input data                                                                \n",
    "    alpha: Index of the mass function                                                \n",
    "                                                                                     \n",
    "    Returns:                                                                         \n",
    "    --------                                                                         \n",
    "    prob: Logarithm of the joint spectral probability                                \n",
    "    \"\"\"\n",
    "    logging.debug(' LogProbMass: %s'%len(data))\n",
    "    m,mp,mm,mmp = create_mass_array()\n",
    "    masses = np.concatenate(data['mass'])\n",
    "    top = np.sum(np.log([dP_dm_conv(m,mi,alpha,sigma=sigma) for mi in masses]))\n",
    "    bottom = len(masses)*np.log(simps(dP_dm_conv(mm,mmp,alpha,sigma=sigma),mp))\n",
    "    return top - bottom"
   ]
  },
  {
   "cell_type": "markdown",
   "metadata": {},
   "source": [
    "## Likelihood Function\n",
    "\n",
    "We can assemble everything back into the logarithm of the likelihood function\n",
    "\n",
    "\\begin{equation}\n",
    "\\log {\\cal L} = LogProb(N) + LogProb(m)\n",
    "\\end{equation}"
   ]
  },
  {
   "cell_type": "code",
   "execution_count": 7,
   "metadata": {
    "collapsed": true
   },
   "outputs": [],
   "source": [
    "def LogLike(data, alpha, frac, sigma=SIGMA):\n",
    "    \"\"\" Logarithm of the joint likelihood over all lens systems.                     \n",
    "                                                                                     \n",
    "    \"\"\"\n",
    "    logging.debug('LogLike: %s'%len(data))\n",
    "    logpois = LogProbNumber(data, alpha, frac, sigma=sigma)\n",
    "    logprob = LogProbMass(data, alpha, sigma=sigma)\n",
    "    return logpois + logprob"
   ]
  },
  {
   "cell_type": "markdown",
   "metadata": {},
   "source": [
    "## Simulated Data\n",
    "\n",
    "To test the likelihood framework we need a simulated data set. First, we define a function to sample the mass function (we choose a general inverse-cdf method, though for a power-law mass function this could be done analytically). Then we define a wrapper to simulate the numbers and masses of specific simpulated lenses."
   ]
  },
  {
   "cell_type": "code",
   "execution_count": 8,
   "metadata": {
    "collapsed": true
   },
   "outputs": [],
   "source": [
    "def sample(size,alpha=ALPHA):\n",
    "    \"\"\" Random samples of the mass function.\n",
    "\n",
    "    Parameters:\n",
    "    -----------\n",
    "    size  : Number of smaples to make\n",
    "    alpha : Index of the mass function\n",
    "\n",
    "    Returns:\n",
    "    --------\n",
    "    mass : Random samples of the mass function\n",
    "    \"\"\"\n",
    "    x = create_mass_array(log=False,nsteps=(1e4,1e1))[0]\n",
    "    pdf = dP_dm_true(x,alpha)\n",
    "    size = int(size)\n",
    "    cdf = np.cumsum(pdf)\n",
    "    cdf = np.insert(cdf, 0, 0.)\n",
    "    cdf /= cdf[-1]\n",
    "\n",
    "    icdf = interp1d(cdf, range(0, len(cdf)), bounds_error=False, fill_value=-1)\n",
    "    u = np.random.uniform(size=size)\n",
    "    index = np.floor(icdf(u)).astype(int)\n",
    "    index = index[index >= 0]\n",
    "    masses = x[index]\n",
    "    return masses\n",
    "\n",
    "def simulate(nlens=1, alpha=ALPHA, frac=FRAC, sigma=SIGMA):\n",
    "    \"\"\"Generate the simulated data set of lens, sources, and masses.\n",
    "\n",
    "    Parameters:\n",
    "    -----------\n",
    "    nlens: Number of lenses to generate.\n",
    "    alpha: Index of the substructure mass function\n",
    "    frac:  Substructure mass fraction\n",
    "\n",
    "    Returns:\n",
    "    --------\n",
    "    data : Array of output lenses and substructures\n",
    "    \"\"\"\n",
    "    # First, figure out how many lenses we are sampling\n",
    "    m,mp,mm,mmp = create_mass_array()\n",
    "    pdf = dP_dm_true(m,alpha)\n",
    "    _mu = mu0(alpha,frac)\n",
    "    lenses = stats.poisson.rvs(_mu,size=nlens)\n",
    "    out = []\n",
    "    for i,l in enumerate(lenses):\n",
    "        masses = sample(l,alpha=alpha)\n",
    "        if sigma != 0:\n",
    "            masses += stats.norm.rvs(size=len(masses),scale=sigma)\n",
    "        sel = (masses > MLOW) & (masses < MHIGH)\n",
    "        mass = masses[sel]\n",
    "        out += [(i,len(mass),mass)]\n",
    "\n",
    "    names = ['lens','nsrc','mass']\n",
    "    return np.rec.fromrecords(out,names=names)"
   ]
  },
  {
   "cell_type": "code",
   "execution_count": 9,
   "metadata": {
    "collapsed": false,
    "scrolled": true
   },
   "outputs": [],
   "source": [
    "# Simulate a large set of lenses\n",
    "data = simulate(1000, alpha=ALPHA, frac=FRAC, sigma=SIGMA)"
   ]
  },
  {
   "cell_type": "code",
   "execution_count": 10,
   "metadata": {
    "collapsed": false
   },
   "outputs": [
    {
     "data": {
      "text/plain": [
       "<matplotlib.text.Text at 0x10fc70b50>"
      ]
     },
     "execution_count": 10,
     "metadata": {},
     "output_type": "execute_result"
    },
    {
     "data": {
      "image/png": "[encoded data removed]",
      "text/plain": [
       "<matplotlib.figure.Figure at 0x105f75f10>"
      ]
     },
     "metadata": {},
     "output_type": "display_data"
    }
   ],
   "source": [
    "# Plot a histogram of the masses\n",
    "bins = np.logspace(np.log10(MLOW),np.log10(MHIGH),50)\n",
    "masses = np.concatenate(data['mass'])\n",
    "n,b,p = plt.hist(masses,bins=bins,log=True,normed=True, label='Samples'); plt.gca().set_xscale('log')\n",
    "\n",
    "# Plot the pdf normalized over the observable mass range\n",
    "m,mp,mm,mmp = create_mass_array()\n",
    "norm = simps(dP_dm_conv(mm,mmp,ALPHA,sigma=SIGMA),mp)\n",
    "plt.plot(b,dP_dm_true(b,alpha=ALPHA)/norm,label='Normalized PDF')\n",
    "\n",
    "plt.legend(loc='upper right')\n",
    "plt.xlabel(r\"Mass ($M_\\odot$)\"); plt.ylabel(\"Normalized Counts\")"
   ]
  },
  {
   "cell_type": "markdown",
   "metadata": {},
   "source": [
    "## Validation Results\n",
    "\n",
    "We now have everything in place to replicate the results from VK09. We start by generating the top right panel of Figure 1. This is a realization with:\n",
    "* $n_l = 10$\n",
    "* $f = 0.025$\n",
    "* $\\alpha = 1.9$\n",
    "* $M_{\\rm low} = 3\\times 10^7$\n",
    "* $\\sigma_m = 0$\n",
    "\n",
    "Rather than doing a full MCMC chain, we choose just to scan the likelihood."
   ]
  },
  {
   "cell_type": "code",
   "execution_count": 11,
   "metadata": {
    "collapsed": false
   },
   "outputs": [],
   "source": [
    "FRAC=0.005; ALPHA=1.9; MLOW=0.3e8; SIGMA=0\n",
    "nlens=10; seed = 1\n",
    "np.random.seed(seed)\n",
    "fracs = np.linspace(0.001,0.03,151)\n",
    "alphas = np.linspace(1.0,3.0,51)"
   ]
  },
  {
   "cell_type": "code",
   "execution_count": 12,
   "metadata": {
    "collapsed": false
   },
   "outputs": [
    {
     "name": "stderr",
     "output_type": "stream",
     "text": [
      "/usr/local/anaconda2/envs/default/lib/python2.7/site-packages/ipykernel/__main__.py:15: RuntimeWarning: invalid value encountered in divide\n",
      "/usr/local/anaconda2/envs/default/lib/python2.7/site-packages/ipykernel/__main__.py:14: RuntimeWarning: invalid value encountered in divide\n"
     ]
    }
   ],
   "source": [
    "data = simulate(nlens,alpha=ALPHA, frac=FRAC, sigma=SIGMA)\n",
    "loglikes = np.array([LogLike(data,a,fracs) for a in alphas])\n",
    "loglikes -= loglikes.max()\n",
    "loglikes = loglikes.T"
   ]
  },
  {
   "cell_type": "code",
   "execution_count": 13,
   "metadata": {
    "collapsed": false
   },
   "outputs": [
    {
     "data": {
      "text/plain": [
       "<matplotlib.text.Text at 0x11051fe90>"
      ]
     },
     "execution_count": 13,
     "metadata": {},
     "output_type": "execute_result"
    },
    {
     "data": {
      "image/png": "[encoded data removed]",
      "text/plain": [
       "<matplotlib.figure.Figure at 0x10fdb5690>"
      ]
     },
     "metadata": {},
     "output_type": "display_data"
    }
   ],
   "source": [
    "# Note the typo in VK09's definition of the 3 sigma p-value\n",
    "levels = -stats.chi2.isf([0.0028,0.05,0.32,1.0],2)/2.\n",
    "plt.contourf(alphas,fracs,loglikes,levels=levels,cmap='binary')\n",
    "plt.axvline(ALPHA,ls='--',c='dodgerblue')\n",
    "plt.axhline(FRAC,ls='--',c='dodgerblue')\n",
    "plt.colorbar(label=r'$\\Delta \\log {\\cal L}$')\n",
    "plt.xlabel(r'Slope ($\\alpha$)')\n",
    "plt.ylabel(r'Mass Fraction ($f$)')"
   ]
  },
  {
   "cell_type": "markdown",
   "metadata": {},
   "source": [
    "As an extended validation, we attempt to reproduce Figure 3 from VK09."
   ]
  },
  {
   "cell_type": "code",
   "execution_count": 14,
   "metadata": {
    "collapsed": false
   },
   "outputs": [
    {
     "name": "stderr",
     "output_type": "stream",
     "text": [
      "/usr/local/anaconda2/envs/default/lib/python2.7/site-packages/ipykernel/__main__.py:15: RuntimeWarning: invalid value encountered in divide\n",
      "/usr/local/anaconda2/envs/default/lib/python2.7/site-packages/ipykernel/__main__.py:14: RuntimeWarning: invalid value encountered in divide\n"
     ]
    },
    {
     "data": {
      "image/png": "[encoded data removed]",
      "text/plain": [
       "<matplotlib.figure.Figure at 0x112507250>"
      ]
     },
     "metadata": {},
     "output_type": "display_data"
    }
   ],
   "source": [
    "FRAC=0.005; ALPHA=1.9; SIGMA=0\n",
    "nlens=200; seed = 0\n",
    "\n",
    "fracs = np.linspace(0.001,0.03,151)\n",
    "alphas = np.linspace(1.0,3.0,51)\n",
    "fig,axes = plt.subplots(1,3,figsize=(10,3),sharey=True)\n",
    "for i,m in enumerate([0.3e8,1.0e8,3e8]):\n",
    "    MLOW = m\n",
    "    data = simulate(nlens,alpha=ALPHA, frac=FRAC, sigma=SIGMA)\n",
    "    loglikes = np.array([LogLike(data,a,fracs) for a in alphas])\n",
    "    loglikes -= loglikes.max()\n",
    "    loglikes = loglikes.T\n",
    "    plt.sca(axes[i])\n",
    "    plt.contourf(alphas,fracs,loglikes,levels=levels,cmap='binary')\n",
    "    plt.axvline(ALPHA,ls='--',c='dodgerblue')\n",
    "    plt.axhline(FRAC,ls='--',c='dodgerblue')\n",
    "    plt.xlabel(r'Slope ($\\alpha$)')\n",
    "    if i == 0: plt.ylabel(r'Mass Fraction ($f$)')"
   ]
  }
 ],
 "metadata": {
  "anaconda-cloud": {},
  "kernelspec": {
   "display_name": "Python 2",
   "language": "python",
   "name": "python2"
  },
  "language_info": {
   "codemirror_mode": {
    "name": "ipython",
    "version": 2
   },
   "file_extension": ".py",
   "mimetype": "text/x-python",
   "name": "python",
   "nbconvert_exporter": "python",
   "pygments_lexer": "ipython2",
   "version": "2.7.12"
  }
 },
 "nbformat": 4,
 "nbformat_minor": 1
}
